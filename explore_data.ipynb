{
 "cells": [
  {
   "cell_type": "code",
   "execution_count": 1,
   "metadata": {},
   "outputs": [
    {
     "data": {
      "text/html": [
       "<span style=\"None\">The &#x27;toml&#x27; package isn&#x27;t installed. To load settings from pyproject.toml or ~/.jupysql/config, install with: pip install toml</span>"
      ],
      "text/plain": [
       "The 'toml' package isn't installed. To load settings from pyproject.toml or ~/.jupysql/config, install with: pip install toml"
      ]
     },
     "metadata": {},
     "output_type": "display_data"
    }
   ],
   "source": [
    "import duckdb\n",
    "import pandas as pd\n",
    "\n",
    "%load_ext sql\n",
    "conn = duckdb.connect(\"goLance_data.db\")\n",
    "%sql conn --alias duckdb"
   ]
  },
  {
   "cell_type": "markdown",
   "metadata": {},
   "source": [
    "jobs table"
   ]
  },
  {
   "cell_type": "code",
   "execution_count": 2,
   "metadata": {},
   "outputs": [
    {
     "data": {
      "text/html": [
       "<span style=\"None\">Running query in &#x27;duckdb&#x27;</span>"
      ],
      "text/plain": [
       "Running query in 'duckdb'"
      ]
     },
     "metadata": {},
     "output_type": "display_data"
    },
    {
     "data": {
      "text/html": [
       "<table>\n",
       "    <thead>\n",
       "        <tr>\n",
       "            <th>job_id</th>\n",
       "            <th>category</th>\n",
       "            <th>posted_at</th>\n",
       "            <th>filled_at</th>\n",
       "            <th>client_id</th>\n",
       "            <th>status</th>\n",
       "        </tr>\n",
       "    </thead>\n",
       "    <tbody>\n",
       "        <tr>\n",
       "            <td>1</td>\n",
       "            <td>Mobile Development</td>\n",
       "            <td>2024-10-02 16:24:04.670261</td>\n",
       "            <td>2024-10-16 01:50:00.670261</td>\n",
       "            <td>29</td>\n",
       "            <td>filled</td>\n",
       "        </tr>\n",
       "        <tr>\n",
       "            <td>2</td>\n",
       "            <td>Marketing</td>\n",
       "            <td>2024-02-21 06:34:39.799722</td>\n",
       "            <td>2024-02-26 06:59:34.799722</td>\n",
       "            <td>58</td>\n",
       "            <td>filled</td>\n",
       "        </tr>\n",
       "        <tr>\n",
       "            <td>3</td>\n",
       "            <td>Mobile Development</td>\n",
       "            <td>2024-05-22 14:10:49.592034</td>\n",
       "            <td>None</td>\n",
       "            <td>190</td>\n",
       "            <td>expired</td>\n",
       "        </tr>\n",
       "        <tr>\n",
       "            <td>4</td>\n",
       "            <td>Web Development</td>\n",
       "            <td>2024-05-03 15:57:04.336128</td>\n",
       "            <td>2024-05-05 03:40:02.336128</td>\n",
       "            <td>152</td>\n",
       "            <td>filled</td>\n",
       "        </tr>\n",
       "        <tr>\n",
       "            <td>5</td>\n",
       "            <td>Web Development</td>\n",
       "            <td>2024-11-07 03:04:09.676973</td>\n",
       "            <td>2024-12-06 09:28:18.676973</td>\n",
       "            <td>56</td>\n",
       "            <td>filled</td>\n",
       "        </tr>\n",
       "    </tbody>\n",
       "</table>"
      ],
      "text/plain": [
       "+--------+--------------------+----------------------------+----------------------------+-----------+---------+\n",
       "| job_id |      category      |         posted_at          |         filled_at          | client_id |  status |\n",
       "+--------+--------------------+----------------------------+----------------------------+-----------+---------+\n",
       "|   1    | Mobile Development | 2024-10-02 16:24:04.670261 | 2024-10-16 01:50:00.670261 |     29    |  filled |\n",
       "|   2    |     Marketing      | 2024-02-21 06:34:39.799722 | 2024-02-26 06:59:34.799722 |     58    |  filled |\n",
       "|   3    | Mobile Development | 2024-05-22 14:10:49.592034 |            None            |    190    | expired |\n",
       "|   4    |  Web Development   | 2024-05-03 15:57:04.336128 | 2024-05-05 03:40:02.336128 |    152    |  filled |\n",
       "|   5    |  Web Development   | 2024-11-07 03:04:09.676973 | 2024-12-06 09:28:18.676973 |     56    |  filled |\n",
       "+--------+--------------------+----------------------------+----------------------------+-----------+---------+"
      ]
     },
     "execution_count": 2,
     "metadata": {},
     "output_type": "execute_result"
    }
   ],
   "source": [
    "%%sql\n",
    "select * from jobs limit 5"
   ]
  },
  {
   "cell_type": "code",
   "execution_count": 3,
   "metadata": {},
   "outputs": [
    {
     "data": {
      "text/html": [
       "<span style=\"None\">Running query in &#x27;duckdb&#x27;</span>"
      ],
      "text/plain": [
       "Running query in 'duckdb'"
      ]
     },
     "metadata": {},
     "output_type": "display_data"
    },
    {
     "data": {
      "text/html": [
       "<table>\n",
       "    <thead>\n",
       "        <tr>\n",
       "            <th>job_id</th>\n",
       "            <th>category</th>\n",
       "            <th>posted_at</th>\n",
       "            <th>filled_at</th>\n",
       "            <th>client_id</th>\n",
       "            <th>status</th>\n",
       "        </tr>\n",
       "    </thead>\n",
       "    <tbody>\n",
       "        <tr>\n",
       "            <td>1</td>\n",
       "            <td>Mobile Development</td>\n",
       "            <td>2024-10-02 16:24:04.670261</td>\n",
       "            <td>2024-10-16 01:50:00.670261</td>\n",
       "            <td>29</td>\n",
       "            <td>filled</td>\n",
       "        </tr>\n",
       "        <tr>\n",
       "            <td>2</td>\n",
       "            <td>Marketing</td>\n",
       "            <td>2024-02-21 06:34:39.799722</td>\n",
       "            <td>2024-02-26 06:59:34.799722</td>\n",
       "            <td>58</td>\n",
       "            <td>filled</td>\n",
       "        </tr>\n",
       "        <tr>\n",
       "            <td>3</td>\n",
       "            <td>Mobile Development</td>\n",
       "            <td>2024-05-22 14:10:49.592034</td>\n",
       "            <td>None</td>\n",
       "            <td>190</td>\n",
       "            <td>expired</td>\n",
       "        </tr>\n",
       "        <tr>\n",
       "            <td>4</td>\n",
       "            <td>Web Development</td>\n",
       "            <td>2024-05-03 15:57:04.336128</td>\n",
       "            <td>2024-05-05 03:40:02.336128</td>\n",
       "            <td>152</td>\n",
       "            <td>filled</td>\n",
       "        </tr>\n",
       "        <tr>\n",
       "            <td>5</td>\n",
       "            <td>Web Development</td>\n",
       "            <td>2024-11-07 03:04:09.676973</td>\n",
       "            <td>2024-12-06 09:28:18.676973</td>\n",
       "            <td>56</td>\n",
       "            <td>filled</td>\n",
       "        </tr>\n",
       "    </tbody>\n",
       "</table>"
      ],
      "text/plain": [
       "+--------+--------------------+----------------------------+----------------------------+-----------+---------+\n",
       "| job_id |      category      |         posted_at          |         filled_at          | client_id |  status |\n",
       "+--------+--------------------+----------------------------+----------------------------+-----------+---------+\n",
       "|   1    | Mobile Development | 2024-10-02 16:24:04.670261 | 2024-10-16 01:50:00.670261 |     29    |  filled |\n",
       "|   2    |     Marketing      | 2024-02-21 06:34:39.799722 | 2024-02-26 06:59:34.799722 |     58    |  filled |\n",
       "|   3    | Mobile Development | 2024-05-22 14:10:49.592034 |            None            |    190    | expired |\n",
       "|   4    |  Web Development   | 2024-05-03 15:57:04.336128 | 2024-05-05 03:40:02.336128 |    152    |  filled |\n",
       "|   5    |  Web Development   | 2024-11-07 03:04:09.676973 | 2024-12-06 09:28:18.676973 |     56    |  filled |\n",
       "+--------+--------------------+----------------------------+----------------------------+-----------+---------+"
      ]
     },
     "execution_count": 3,
     "metadata": {},
     "output_type": "execute_result"
    }
   ],
   "source": [
    "%%sql\n",
    "select * from jobs limit 5"
   ]
  },
  {
   "cell_type": "markdown",
   "metadata": {},
   "source": [
    "1. Median Time to Fill a Job for Each Job Category"
   ]
  },
  {
   "cell_type": "code",
   "execution_count": 5,
   "metadata": {},
   "outputs": [
    {
     "data": {
      "text/html": [
       "<span style=\"None\">Running query in &#x27;duckdb&#x27;</span>"
      ],
      "text/plain": [
       "Running query in 'duckdb'"
      ]
     },
     "metadata": {},
     "output_type": "display_data"
    },
    {
     "data": {
      "text/html": [
       "<table>\n",
       "    <thead>\n",
       "        <tr>\n",
       "            <th>category</th>\n",
       "            <th>median_fill_time</th>\n",
       "        </tr>\n",
       "    </thead>\n",
       "    <tbody>\n",
       "        <tr>\n",
       "            <td>Data Science</td>\n",
       "            <td>18 days, 4:38:28</td>\n",
       "        </tr>\n",
       "        <tr>\n",
       "            <td>Graphic Design</td>\n",
       "            <td>15 days, 4:27:23</td>\n",
       "        </tr>\n",
       "        <tr>\n",
       "            <td>Marketing</td>\n",
       "            <td>16 days, 4:01:26</td>\n",
       "        </tr>\n",
       "        <tr>\n",
       "            <td>Mobile Development</td>\n",
       "            <td>16 days, 19:57:19</td>\n",
       "        </tr>\n",
       "        <tr>\n",
       "            <td>Web Development</td>\n",
       "            <td>17 days, 11:13:03</td>\n",
       "        </tr>\n",
       "        <tr>\n",
       "            <td>Writing</td>\n",
       "            <td>13 days, 13:31:43</td>\n",
       "        </tr>\n",
       "    </tbody>\n",
       "</table>"
      ],
      "text/plain": [
       "+--------------------+-------------------+\n",
       "|      category      |  median_fill_time |\n",
       "+--------------------+-------------------+\n",
       "|    Data Science    |  18 days, 4:38:28 |\n",
       "|   Graphic Design   |  15 days, 4:27:23 |\n",
       "|     Marketing      |  16 days, 4:01:26 |\n",
       "| Mobile Development | 16 days, 19:57:19 |\n",
       "|  Web Development   | 17 days, 11:13:03 |\n",
       "|      Writing       | 13 days, 13:31:43 |\n",
       "+--------------------+-------------------+"
      ]
     },
     "execution_count": 5,
     "metadata": {},
     "output_type": "execute_result"
    }
   ],
   "source": [
    "%%sql\n",
    "select \n",
    "    \n",
    "    category,\n",
    "    median(filled_at - posted_at) as median_fill_time\n",
    "\n",
    "from jobs\n",
    "\n",
    "where status = 'filled'\n",
    "\n",
    "group by category\n",
    "order by category"
   ]
  },
  {
   "cell_type": "markdown",
   "metadata": {},
   "source": [
    "2. Job Application Conversion Rate"
   ]
  },
  {
   "cell_type": "code",
   "execution_count": 17,
   "metadata": {},
   "outputs": [
    {
     "data": {
      "text/html": [
       "<span style=\"None\">Running query in &#x27;duckdb&#x27;</span>"
      ],
      "text/plain": [
       "Running query in 'duckdb'"
      ]
     },
     "metadata": {},
     "output_type": "display_data"
    },
    {
     "data": {
      "text/html": [
       "<table>\n",
       "    <thead>\n",
       "        <tr>\n",
       "            <th>job_id</th>\n",
       "            <th>conversion_rate</th>\n",
       "        </tr>\n",
       "    </thead>\n",
       "    <tbody>\n",
       "        <tr>\n",
       "            <td>1</td>\n",
       "            <td>7.14</td>\n",
       "        </tr>\n",
       "        <tr>\n",
       "            <td>2</td>\n",
       "            <td>4.35</td>\n",
       "        </tr>\n",
       "        <tr>\n",
       "            <td>3</td>\n",
       "            <td>0.0</td>\n",
       "        </tr>\n",
       "        <tr>\n",
       "            <td>4</td>\n",
       "            <td>25.0</td>\n",
       "        </tr>\n",
       "        <tr>\n",
       "            <td>5</td>\n",
       "            <td>50.0</td>\n",
       "        </tr>\n",
       "        <tr>\n",
       "            <td>6</td>\n",
       "            <td>20.0</td>\n",
       "        </tr>\n",
       "        <tr>\n",
       "            <td>7</td>\n",
       "            <td>5.26</td>\n",
       "        </tr>\n",
       "        <tr>\n",
       "            <td>8</td>\n",
       "            <td>0.0</td>\n",
       "        </tr>\n",
       "        <tr>\n",
       "            <td>9</td>\n",
       "            <td>3.33</td>\n",
       "        </tr>\n",
       "        <tr>\n",
       "            <td>10</td>\n",
       "            <td>6.25</td>\n",
       "        </tr>\n",
       "    </tbody>\n",
       "</table>\n",
       "<span style=\"font-style:italic;text-align:center;\">Truncated to <a href=\"https://jupysql.ploomber.io/en/latest/api/configuration.html#displaylimit\">displaylimit</a> of 10.</span>"
      ],
      "text/plain": [
       "+--------+-----------------+\n",
       "| job_id | conversion_rate |\n",
       "+--------+-----------------+\n",
       "|   1    |       7.14      |\n",
       "|   2    |       4.35      |\n",
       "|   3    |       0.0       |\n",
       "|   4    |       25.0      |\n",
       "|   5    |       50.0      |\n",
       "|   6    |       20.0      |\n",
       "|   7    |       5.26      |\n",
       "|   8    |       0.0       |\n",
       "|   9    |       3.33      |\n",
       "|   10   |       6.25      |\n",
       "+--------+-----------------+\n",
       "Truncated to displaylimit of 10."
      ]
     },
     "execution_count": 17,
     "metadata": {},
     "output_type": "execute_result"
    }
   ],
   "source": [
    "%%sql\n",
    "select\n",
    "    \n",
    "    job_id,\n",
    "    round(\n",
    "        100 * sum(case when status = 'accepted' then 1 else 0 end) / count(*), 2\n",
    "    ) as conversion_rate\n",
    "\n",
    "from freelancer_applications\n",
    "group by job_id"
   ]
  },
  {
   "cell_type": "markdown",
   "metadata": {},
   "source": [
    "3. Top 3 Job Categories with the Lowest Fulfillment Rate"
   ]
  },
  {
   "cell_type": "code",
   "execution_count": 24,
   "metadata": {},
   "outputs": [
    {
     "data": {
      "text/html": [
       "<span style=\"None\">Running query in &#x27;duckdb&#x27;</span>"
      ],
      "text/plain": [
       "Running query in 'duckdb'"
      ]
     },
     "metadata": {},
     "output_type": "display_data"
    },
    {
     "data": {
      "text/html": [
       "<table>\n",
       "    <thead>\n",
       "        <tr>\n",
       "            <th>category</th>\n",
       "            <th>fulfillment_rate</th>\n",
       "        </tr>\n",
       "    </thead>\n",
       "    <tbody>\n",
       "        <tr>\n",
       "            <td>Writing</td>\n",
       "            <td>53.0</td>\n",
       "        </tr>\n",
       "        <tr>\n",
       "            <td>Data Science</td>\n",
       "            <td>55.0</td>\n",
       "        </tr>\n",
       "        <tr>\n",
       "            <td>Web Development</td>\n",
       "            <td>59.0</td>\n",
       "        </tr>\n",
       "        <tr>\n",
       "            <td>Graphic Design</td>\n",
       "            <td>61.0</td>\n",
       "        </tr>\n",
       "        <tr>\n",
       "            <td>Mobile Development</td>\n",
       "            <td>64.0</td>\n",
       "        </tr>\n",
       "        <tr>\n",
       "            <td>Marketing</td>\n",
       "            <td>64.0</td>\n",
       "        </tr>\n",
       "    </tbody>\n",
       "</table>"
      ],
      "text/plain": [
       "+--------------------+------------------+\n",
       "|      category      | fulfillment_rate |\n",
       "+--------------------+------------------+\n",
       "|      Writing       |       53.0       |\n",
       "|    Data Science    |       55.0       |\n",
       "|  Web Development   |       59.0       |\n",
       "|   Graphic Design   |       61.0       |\n",
       "| Mobile Development |       64.0       |\n",
       "|     Marketing      |       64.0       |\n",
       "+--------------------+------------------+"
      ]
     },
     "execution_count": 24,
     "metadata": {},
     "output_type": "execute_result"
    }
   ],
   "source": [
    "%%sql\n",
    "select\n",
    "\n",
    "  category,\n",
    "  round(100.0 * sum(case when status = 'filled' then 1 else 0 end) / count(*)) as fulfillment_rate\n",
    "\n",
    "from jobs\n",
    "group by category\n",
    "order by fulfillment_rate asc\n",
    "limit 3"
   ]
  }
 ],
 "metadata": {
  "kernelspec": {
   "display_name": ".venv",
   "language": "python",
   "name": "python3"
  },
  "language_info": {
   "codemirror_mode": {
    "name": "ipython",
    "version": 3
   },
   "file_extension": ".py",
   "mimetype": "text/x-python",
   "name": "python",
   "nbconvert_exporter": "python",
   "pygments_lexer": "ipython3",
   "version": "3.9.5"
  }
 },
 "nbformat": 4,
 "nbformat_minor": 2
}
